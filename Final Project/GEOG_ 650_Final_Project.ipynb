{
 "cells": [
  {
   "cell_type": "markdown",
   "metadata": {},
   "source": [
    "Jeremiah Jon Shaw <br>\n",
    "4 December 2024 <Br>\n",
    "GEOG 650 GIS Programming and Automation <Br>\n",
    "Liberty University Online\n",
    "\n",
    "<div align = \"center\">  <h1> GIS Programming and Automation Term Project </h> </div>\n",
    "\n",
    "### Introduction \n",
    "\n",
    "For this final assignment for class I have chosen to complete option number 2. This process will involve 5 steps.\n",
    "\n",
    "Step 1. Download a Digital Elevation Model (DEM).This will be sent to a folder on my desktop that I will call from to begin the process. <Br>\n",
    "Step 2. After accessing the multiple raster DEM I will create a mosaic to a new raster layer. This will \"stich\" multiple raster layer into one, making it easier to work with.<Br>\n",
    "Step 3. Once I have a single raster layer to work with I will then project a new coordinate system on the layer. This will be more fitting then the global coordinate system<Br>\n",
    "$\\;\\;\\;\\;\\;\\;$ that it currently has attached to it. <Br>\n",
    "Step 4. Next I will use the raster calculator to convert the current measurements of meters into feet. By doing this I will make the information more accessible to the general <Br>\n",
    "$\\;\\;\\;\\;\\;\\;$ public that  understand the imperial distance scale better then the metric distance scale. <Br>\n",
    "Step 5. in the final step I will cut the DEM to a specific area of interest (AOI). in most work I can imagine we will not need the whole of an area outside the AOI, this just  <Br>\n",
    "$\\;\\;\\;\\;\\;\\;$ takes up calculaion power and time that may not be cost effective in the end. <Br>\n",
    "\n",
    "The data for this project was collected from the USGS National Map at https://apps.nationalmap.gov/lidar-explorer/#/. For the assignmentI will be using Pueblo County Colorado <Br>\n",
    "as my AOI, this means I will need to use four DEM's at the spatial resolution of 1/3 arc second to fully encompass my AOI. For the coordiante system I will change the DEM to <Br>\n",
    "the \"NAD 1983 (2011) StatePlane Colorado South FIPS 0503 (US Feet)\" state plane coordinate plane system. And finally I will use the Colorado county shape file to clip the raster <br> \n",
    "to the designated AOI using the Pueblo County lines.\n",
    "\n",
    "This will then complete the requirements for this assignment and also complete the last assignment for this course. \n"
   ]
  },
  {
   "cell_type": "code",
   "execution_count": 38,
   "metadata": {},
   "outputs": [],
   "source": [
    "# Accessing the GIS Python Module\n",
    "\n",
    "import arcpy\n",
    "import numpy as np"
   ]
  },
  {
   "cell_type": "code",
   "execution_count": 39,
   "metadata": {},
   "outputs": [],
   "source": [
    "# establish the workspace\n",
    "\n",
    "from arcpy import env\n",
    "arcpy.env.overwriteOutput = True \n",
    "from arcpy.sa import *\n",
    "arcpy.env.workspace = r\"C:\\Users\\Jon\\ArcGIS Data\\GEOG 650\\Week 8\\final project\\DEM\"\n"
   ]
  },
  {
   "cell_type": "code",
   "execution_count": null,
   "metadata": {},
   "outputs": [],
   "source": [
    "# variables for the process\n",
    "\n",
    "gdb = r\"C:\\Users\\Jon\\Documents\\ArcGIS\\Projects\\MyProject1\\MyProject1.gdb\"\n",
    "ws = r\"C:\\Users\\Jon\\ArcGIS Data\\GEOG 650\\Week 8\\final project\\DEM\"\n",
    "nw = \"Pueblo County NW.tif\"\n",
    "sw = \"Pueblo County SW.tif\"\n",
    "ne = \"Pueblo County NE.tif\"\n",
    "se = \"Pueblo County SE.tif\"\n",
    "county_line = r\"C:\\Users\\Jon\\Documents\\ArcGIS\\Projects\\MyProject1\\MyProject1.gdb\\Pueblo_County_Line_Project\"\n",
    "sr = arcpy.SpatialReference(6432)\n",
    "\n"
   ]
  },
  {
   "cell_type": "code",
   "execution_count": 41,
   "metadata": {},
   "outputs": [
    {
     "name": "stdout",
     "output_type": "stream",
     "text": [
      "raster layer C:\\Users\\Jon\\ArcGIS Data\\GEOG 650\\Week 8\\final project\\DEM\\greater_pue_co.tif has been created.\n"
     ]
    }
   ],
   "source": [
    "# Creating a new raster layer from a mosaic of raster layers.\n",
    "\n",
    "mosaic = arcpy.management.MosaicToNewRaster([nw, sw, ne, se], ws, \"greater_pue_co.tif\", \"\", \"32_BIT_FLOAT\", \"\", 1)\n",
    "print(f\"raster layer {mosaic} has been created.\") "
   ]
  },
  {
   "cell_type": "code",
   "execution_count": 42,
   "metadata": {},
   "outputs": [
    {
     "name": "stdout",
     "output_type": "stream",
     "text": [
      "raster layer C:\\Users\\Jon\\ArcGIS Data\\GEOG 650\\Week 8\\final project\\DEM\\Proj_Pueblo.tif Projection has been completed.\n"
     ]
    }
   ],
   "source": [
    "# Modifying the spatial reference of the newly created raster to a more suitable projection.\n",
    "\n",
    "Proj = arcpy.management.ProjectRaster(mosaic, \"Proj_Pueblo.tif\", sr)\n",
    "\n",
    "print(f\"raster layer {Proj} Projection has been completed.\")\n"
   ]
  },
  {
   "cell_type": "code",
   "execution_count": null,
   "metadata": {},
   "outputs": [
    {
     "name": "stdout",
     "output_type": "stream",
     "text": [
      "raster layer PuebloCoinFT convertion has been completed.\n"
     ]
    }
   ],
   "source": [
    "# This section we will modify the elevation scale for the raster from meters to feet. \n",
    "\n",
    "PuebloCoinFT = Times(r\"C:\\Users\\Jon\\ArcGIS Data\\GEOG 650\\Week 8\\final project\\DEM\\Proj_Pueblo.tif\", 3.2808399)\n",
    "PuebloCoinFT.save(r\"C:\\Users\\Jon\\ArcGIS Data\\GEOG 650\\Week 8\\final project\\DEM\\PuebloCoinFT.tif\")\n",
    "print(f\"raster layer {'PuebloCoinFT'} convertion has been completed.\")\n"
   ]
  },
  {
   "cell_type": "code",
   "execution_count": 60,
   "metadata": {},
   "outputs": [
    {
     "name": "stdout",
     "output_type": "stream",
     "text": [
      "process complete\n"
     ]
    }
   ],
   "source": [
    "# now we will clip the raster to the AOI\n",
    "\n",
    "arcpy.management.Clip(PuebloCoinFT, county_line, ws + \"\\PuebloCountyDEM.tif\",)\n",
    "print(\"process complete\")"
   ]
  },
  {
   "cell_type": "markdown",
   "metadata": {},
   "source": [
    "## Conclussion \n",
    "\n",
    "\n",
    "After much trial and error and reaching out to Professor Hindle, I have been able to achieve the tenets of the assignment. \n",
    "\n",
    "What I have learned is first I can see how learning, and successfully implement will save time and effort in the future. The second thing I have found is that coding <br>\n",
    "is hard, and debugging is hard. I never thought it to be any different than what I found.\n",
    "\n",
    "This course has been an introduction to coding that I will be using to springboard me to greater heights in Python programming. \n"
   ]
  }
 ],
 "metadata": {
  "kernelspec": {
   "display_name": "geo",
   "language": "python",
   "name": "python3"
  },
  "language_info": {
   "codemirror_mode": {
    "name": "ipython",
    "version": 3
   },
   "file_extension": ".py",
   "mimetype": "text/x-python",
   "name": "python",
   "nbconvert_exporter": "python",
   "pygments_lexer": "ipython3",
   "version": "3.11.8"
  }
 },
 "nbformat": 4,
 "nbformat_minor": 2
}
